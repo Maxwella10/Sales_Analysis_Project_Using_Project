{
 "cells": [
  {
   "cell_type": "code",
   "execution_count": 1,
   "id": "32c21531",
   "metadata": {},
   "outputs": [],
   "source": [
    "# import dependencies\n",
    "import pandas as pd\n",
    "import scipy.stats as stats\n",
    "import os\n",
    "import matplotlib.pyplot as plt\n",
    "import seaborn as sns"
   ]
  },
  {
   "cell_type": "code",
   "execution_count": 2,
   "id": "70ba4b66",
   "metadata": {},
   "outputs": [],
   "source": [
    "# Need improvement---------\n",
    "# reading CSVs\n",
    "sales_Jan = pd.read_csv('Sales_January_2019.csv')\n",
    "sales_Feb = pd.read_csv('Sales_February_2019.csv')\n",
    "sales_Mar = pd.read_csv('Sales_March_2019.csv')\n",
    "sales_Apr = pd.read_csv('Sales_April_2019.csv')\n",
    "sales_May = pd.read_csv('Sales_May_2019.csv')\n",
    "sales_Jun = pd.read_csv('Sales_June_2019.csv')\n",
    "sales_Jul = pd.read_csv('Sales_July_2019.csv')\n",
    "sales_Aug = pd.read_csv('Sales_August_2019.csv')\n",
    "sales_Sep = pd.read_csv('Sales_September_2019.csv')\n",
    "sales_Oct = pd.read_csv('Sales_October_2019.csv')\n",
    "sales_Nov = pd.read_csv('Sales_November_2019.csv')\n",
    "sales_Dec = pd.read_csv('Sales_December_2019.csv')"
   ]
  },
  {
   "cell_type": "code",
   "execution_count": 3,
   "id": "e5d32078",
   "metadata": {},
   "outputs": [],
   "source": [
    "# Concatenate or merge CSVs in one file\n",
    "df_sales = pd.concat((sales_Jan, sales_Feb, sales_Mar,sales_Apr, sales_May,  sales_Jun, sales_Jul,sales_Aug ,\n",
    "                      sales_Sep,sales_Oct, sales_Nov,sales_Dec ), ignore_index= True)"
   ]
  },
  {
   "cell_type": "code",
   "execution_count": 4,
   "id": "2b61e33b",
   "metadata": {},
   "outputs": [
    {
     "data": {
      "text/plain": [
       "(186849, 6)"
      ]
     },
     "execution_count": 4,
     "metadata": {},
     "output_type": "execute_result"
    }
   ],
   "source": [
    "# Look at DataFrame rows/cols\n",
    "df_sales.shape"
   ]
  },
  {
   "cell_type": "code",
   "execution_count": 5,
   "id": "e363f02c",
   "metadata": {},
   "outputs": [
    {
     "name": "stdout",
     "output_type": "stream",
     "text": [
      "<class 'pandas.core.frame.DataFrame'>\n",
      "RangeIndex: 186849 entries, 0 to 186848\n",
      "Data columns (total 6 columns):\n",
      " #   Column            Non-Null Count   Dtype \n",
      "---  ------            --------------   ----- \n",
      " 0   Order ID          186305 non-null  object\n",
      " 1   Product           186305 non-null  object\n",
      " 2   Quantity Ordered  186305 non-null  object\n",
      " 3   Price Each        186305 non-null  object\n",
      " 4   Order Date        186305 non-null  object\n",
      " 5   Purchase Address  186305 non-null  object\n",
      "dtypes: object(6)\n",
      "memory usage: 8.6+ MB\n"
     ]
    }
   ],
   "source": [
    "# Check DataFrame info and look at Datatypes for appropriate manipulation\n",
    "df_sales.info()"
   ]
  },
  {
   "cell_type": "code",
   "execution_count": 6,
   "id": "c171f261",
   "metadata": {},
   "outputs": [
    {
     "data": {
      "text/plain": [
       "Index(['Order ID', 'Product', 'Quantity Ordered', 'Price Each', 'Order Date',\n",
       "       'Purchase Address'],\n",
       "      dtype='object')"
      ]
     },
     "execution_count": 6,
     "metadata": {},
     "output_type": "execute_result"
    }
   ],
   "source": [
    "# Columns in dataframe\n",
    "df_sales.columns"
   ]
  },
  {
   "cell_type": "code",
   "execution_count": 7,
   "id": "3bfa129a",
   "metadata": {},
   "outputs": [],
   "source": [
    "# Drop null values in Dataframe\n",
    "df_sales.dropna(inplace=True)"
   ]
  },
  {
   "cell_type": "code",
   "execution_count": 8,
   "id": "3d9b31d4",
   "metadata": {},
   "outputs": [
    {
     "data": {
      "text/plain": [
       "Order ID            False\n",
       "Product             False\n",
       "Quantity Ordered    False\n",
       "Price Each          False\n",
       "Order Date          False\n",
       "Purchase Address    False\n",
       "dtype: bool"
      ]
     },
     "execution_count": 8,
     "metadata": {},
     "output_type": "execute_result"
    }
   ],
   "source": [
    "# Check for any null values in Data Frame\n",
    "df_sales.isnull().any()"
   ]
  },
  {
   "cell_type": "code",
   "execution_count": 9,
   "id": "2162dfcb",
   "metadata": {},
   "outputs": [
    {
     "data": {
      "text/html": [
       "<div>\n",
       "<style scoped>\n",
       "    .dataframe tbody tr th:only-of-type {\n",
       "        vertical-align: middle;\n",
       "    }\n",
       "\n",
       "    .dataframe tbody tr th {\n",
       "        vertical-align: top;\n",
       "    }\n",
       "\n",
       "    .dataframe thead th {\n",
       "        text-align: right;\n",
       "    }\n",
       "</style>\n",
       "<table border=\"1\" class=\"dataframe\">\n",
       "  <thead>\n",
       "    <tr style=\"text-align: right;\">\n",
       "      <th></th>\n",
       "      <th>Order ID</th>\n",
       "      <th>Product</th>\n",
       "      <th>Quantity Ordered</th>\n",
       "      <th>Price Each</th>\n",
       "      <th>Order Date</th>\n",
       "      <th>Purchase Address</th>\n",
       "    </tr>\n",
       "  </thead>\n",
       "  <tbody>\n",
       "    <tr>\n",
       "      <th>186844</th>\n",
       "      <td>319666</td>\n",
       "      <td>Lightning Charging Cable</td>\n",
       "      <td>1</td>\n",
       "      <td>14.95</td>\n",
       "      <td>12/11/19 20:58</td>\n",
       "      <td>14 Madison St, San Francisco, CA 94016</td>\n",
       "    </tr>\n",
       "    <tr>\n",
       "      <th>186845</th>\n",
       "      <td>319667</td>\n",
       "      <td>AA Batteries (4-pack)</td>\n",
       "      <td>2</td>\n",
       "      <td>3.84</td>\n",
       "      <td>12/01/19 12:01</td>\n",
       "      <td>549 Willow St, Los Angeles, CA 90001</td>\n",
       "    </tr>\n",
       "    <tr>\n",
       "      <th>186846</th>\n",
       "      <td>319668</td>\n",
       "      <td>Vareebadd Phone</td>\n",
       "      <td>1</td>\n",
       "      <td>400</td>\n",
       "      <td>12/09/19 06:43</td>\n",
       "      <td>273 Wilson St, Seattle, WA 98101</td>\n",
       "    </tr>\n",
       "    <tr>\n",
       "      <th>186847</th>\n",
       "      <td>319669</td>\n",
       "      <td>Wired Headphones</td>\n",
       "      <td>1</td>\n",
       "      <td>11.99</td>\n",
       "      <td>12/03/19 10:39</td>\n",
       "      <td>778 River St, Dallas, TX 75001</td>\n",
       "    </tr>\n",
       "    <tr>\n",
       "      <th>186848</th>\n",
       "      <td>319670</td>\n",
       "      <td>Bose SoundSport Headphones</td>\n",
       "      <td>1</td>\n",
       "      <td>99.99</td>\n",
       "      <td>12/21/19 21:45</td>\n",
       "      <td>747 Chestnut St, Los Angeles, CA 90001</td>\n",
       "    </tr>\n",
       "  </tbody>\n",
       "</table>\n",
       "</div>"
      ],
      "text/plain": [
       "       Order ID                     Product Quantity Ordered Price Each  \\\n",
       "186844   319666    Lightning Charging Cable                1      14.95   \n",
       "186845   319667       AA Batteries (4-pack)                2       3.84   \n",
       "186846   319668             Vareebadd Phone                1        400   \n",
       "186847   319669            Wired Headphones                1      11.99   \n",
       "186848   319670  Bose SoundSport Headphones                1      99.99   \n",
       "\n",
       "            Order Date                        Purchase Address  \n",
       "186844  12/11/19 20:58  14 Madison St, San Francisco, CA 94016  \n",
       "186845  12/01/19 12:01    549 Willow St, Los Angeles, CA 90001  \n",
       "186846  12/09/19 06:43        273 Wilson St, Seattle, WA 98101  \n",
       "186847  12/03/19 10:39          778 River St, Dallas, TX 75001  \n",
       "186848  12/21/19 21:45  747 Chestnut St, Los Angeles, CA 90001  "
      ]
     },
     "execution_count": 9,
     "metadata": {},
     "output_type": "execute_result"
    }
   ],
   "source": [
    "# read last five  records\n",
    "df_sales.tail()"
   ]
  },
  {
   "cell_type": "code",
   "execution_count": 10,
   "id": "d7f18ca9",
   "metadata": {},
   "outputs": [
    {
     "data": {
      "text/plain": [
       "0         01/22/19 21:25\n",
       "1         01/28/19 14:15\n",
       "2         01/17/19 13:33\n",
       "3         01/05/19 20:33\n",
       "4         01/25/19 11:59\n",
       "               ...      \n",
       "186844    12/11/19 20:58\n",
       "186845    12/01/19 12:01\n",
       "186846    12/09/19 06:43\n",
       "186847    12/03/19 10:39\n",
       "186848    12/21/19 21:45\n",
       "Name: Order Date, Length: 186305, dtype: object"
      ]
     },
     "execution_count": 10,
     "metadata": {},
     "output_type": "execute_result"
    }
   ],
   "source": [
    "# Check Date for further processing\n",
    "df_sales['Order Date']"
   ]
  },
  {
   "cell_type": "code",
   "execution_count": 11,
   "id": "abfd5e41",
   "metadata": {},
   "outputs": [],
   "source": [
    "# First part of date contains month which we need to extract(0:2)\n",
    "df_sales =df_sales[df_sales['Order Date'].str[0:2] != 'Or']"
   ]
  },
  {
   "cell_type": "code",
   "execution_count": 12,
   "id": "22eed4c5",
   "metadata": {},
   "outputs": [
    {
     "name": "stdout",
     "output_type": "stream",
     "text": [
      "<class 'pandas.core.frame.DataFrame'>\n",
      "Int64Index: 185950 entries, 0 to 186848\n",
      "Data columns (total 6 columns):\n",
      " #   Column            Non-Null Count   Dtype         \n",
      "---  ------            --------------   -----         \n",
      " 0   Order ID          185950 non-null  object        \n",
      " 1   Product           185950 non-null  object        \n",
      " 2   Quantity Ordered  185950 non-null  object        \n",
      " 3   Price Each        185950 non-null  object        \n",
      " 4   Order Date        185950 non-null  datetime64[ns]\n",
      " 5   Purchase Address  185950 non-null  object        \n",
      "dtypes: datetime64[ns](1), object(5)\n",
      "memory usage: 9.9+ MB\n"
     ]
    }
   ],
   "source": [
    "# Parse date column to_datetime\n",
    "df_sales['Order Date'] = df_sales['Order Date'].apply(pd.to_datetime)\n",
    "df_sales.info()"
   ]
  },
  {
   "cell_type": "code",
   "execution_count": 13,
   "id": "61dc8db0",
   "metadata": {},
   "outputs": [],
   "source": [
    "# Import dependency datetime for further extraction month and full month from date\n",
    "import datetime as dt"
   ]
  },
  {
   "cell_type": "code",
   "execution_count": 14,
   "id": "acad1286",
   "metadata": {},
   "outputs": [],
   "source": [
    "# Parse date column to_datetime\n",
    "df_sales['Order Date'] = df_sales['Order Date'].apply(pd.to_datetime)\n"
   ]
  },
  {
   "cell_type": "code",
   "execution_count": 15,
   "id": "fcd484db",
   "metadata": {},
   "outputs": [],
   "source": [
    "# Extract month and full month from date\n",
    "df_sales['Month'] = df_sales['Order Date'].dt.month\n",
    "df_sales['Full_Month']=df_sales['Order Date'].dt.month_name()"
   ]
  },
  {
   "cell_type": "code",
   "execution_count": 16,
   "id": "1c22abe7",
   "metadata": {},
   "outputs": [],
   "source": [
    "# Fix 'Price Each' column data type for manipulation\n",
    "df_sales['Price Each']=  df_sales['Price Each'].astype('float')"
   ]
  },
  {
   "cell_type": "code",
   "execution_count": 17,
   "id": "548b557b",
   "metadata": {},
   "outputs": [],
   "source": [
    "#Fix 'Quantity Ordered' column data type for manipulation\n",
    "df_sales['Quantity Ordered'] = df_sales['Quantity Ordered'].astype('int32')"
   ]
  },
  {
   "cell_type": "code",
   "execution_count": 18,
   "id": "45cf965f",
   "metadata": {},
   "outputs": [
    {
     "name": "stdout",
     "output_type": "stream",
     "text": [
      "<class 'pandas.core.frame.DataFrame'>\n",
      "Int64Index: 185950 entries, 0 to 186848\n",
      "Data columns (total 9 columns):\n",
      " #   Column            Non-Null Count   Dtype         \n",
      "---  ------            --------------   -----         \n",
      " 0   Order ID          185950 non-null  object        \n",
      " 1   Product           185950 non-null  object        \n",
      " 2   Quantity Ordered  185950 non-null  int32         \n",
      " 3   Price Each        185950 non-null  float64       \n",
      " 4   Order Date        185950 non-null  datetime64[ns]\n",
      " 5   Purchase Address  185950 non-null  object        \n",
      " 6   Month             185950 non-null  int64         \n",
      " 7   Full_Month        185950 non-null  object        \n",
      " 8   sales             185950 non-null  float64       \n",
      "dtypes: datetime64[ns](1), float64(2), int32(1), int64(1), object(4)\n",
      "memory usage: 13.5+ MB\n"
     ]
    }
   ],
   "source": [
    "# Create column sales in DataFrame \n",
    "# Obtain sales column value by multiplying 'Quantity Ordered' and 'Price Each'\n",
    "df_sales['sales'] = df_sales['Quantity Ordered'] * df_sales['Price Each']\n",
    "df_sales.info()"
   ]
  },
  {
   "cell_type": "code",
   "execution_count": 19,
   "id": "9c4da579",
   "metadata": {},
   "outputs": [
    {
     "data": {
      "text/html": [
       "<div>\n",
       "<style scoped>\n",
       "    .dataframe tbody tr th:only-of-type {\n",
       "        vertical-align: middle;\n",
       "    }\n",
       "\n",
       "    .dataframe tbody tr th {\n",
       "        vertical-align: top;\n",
       "    }\n",
       "\n",
       "    .dataframe thead th {\n",
       "        text-align: right;\n",
       "    }\n",
       "</style>\n",
       "<table border=\"1\" class=\"dataframe\">\n",
       "  <thead>\n",
       "    <tr style=\"text-align: right;\">\n",
       "      <th></th>\n",
       "      <th>Order ID</th>\n",
       "      <th>Product</th>\n",
       "      <th>Quantity Ordered</th>\n",
       "      <th>Price Each</th>\n",
       "      <th>Order Date</th>\n",
       "      <th>Purchase Address</th>\n",
       "      <th>Month</th>\n",
       "      <th>Full_Month</th>\n",
       "      <th>sales</th>\n",
       "    </tr>\n",
       "  </thead>\n",
       "  <tbody>\n",
       "    <tr>\n",
       "      <th>0</th>\n",
       "      <td>141234</td>\n",
       "      <td>iPhone</td>\n",
       "      <td>1</td>\n",
       "      <td>700.00</td>\n",
       "      <td>2019-01-22 21:25:00</td>\n",
       "      <td>944 Walnut St, Boston, MA 02215</td>\n",
       "      <td>1</td>\n",
       "      <td>January</td>\n",
       "      <td>700.00</td>\n",
       "    </tr>\n",
       "    <tr>\n",
       "      <th>1</th>\n",
       "      <td>141235</td>\n",
       "      <td>Lightning Charging Cable</td>\n",
       "      <td>1</td>\n",
       "      <td>14.95</td>\n",
       "      <td>2019-01-28 14:15:00</td>\n",
       "      <td>185 Maple St, Portland, OR 97035</td>\n",
       "      <td>1</td>\n",
       "      <td>January</td>\n",
       "      <td>14.95</td>\n",
       "    </tr>\n",
       "    <tr>\n",
       "      <th>2</th>\n",
       "      <td>141236</td>\n",
       "      <td>Wired Headphones</td>\n",
       "      <td>2</td>\n",
       "      <td>11.99</td>\n",
       "      <td>2019-01-17 13:33:00</td>\n",
       "      <td>538 Adams St, San Francisco, CA 94016</td>\n",
       "      <td>1</td>\n",
       "      <td>January</td>\n",
       "      <td>23.98</td>\n",
       "    </tr>\n",
       "    <tr>\n",
       "      <th>3</th>\n",
       "      <td>141237</td>\n",
       "      <td>27in FHD Monitor</td>\n",
       "      <td>1</td>\n",
       "      <td>149.99</td>\n",
       "      <td>2019-01-05 20:33:00</td>\n",
       "      <td>738 10th St, Los Angeles, CA 90001</td>\n",
       "      <td>1</td>\n",
       "      <td>January</td>\n",
       "      <td>149.99</td>\n",
       "    </tr>\n",
       "    <tr>\n",
       "      <th>4</th>\n",
       "      <td>141238</td>\n",
       "      <td>Wired Headphones</td>\n",
       "      <td>1</td>\n",
       "      <td>11.99</td>\n",
       "      <td>2019-01-25 11:59:00</td>\n",
       "      <td>387 10th St, Austin, TX 73301</td>\n",
       "      <td>1</td>\n",
       "      <td>January</td>\n",
       "      <td>11.99</td>\n",
       "    </tr>\n",
       "  </tbody>\n",
       "</table>\n",
       "</div>"
      ],
      "text/plain": [
       "  Order ID                   Product  Quantity Ordered  Price Each  \\\n",
       "0   141234                    iPhone                 1      700.00   \n",
       "1   141235  Lightning Charging Cable                 1       14.95   \n",
       "2   141236          Wired Headphones                 2       11.99   \n",
       "3   141237          27in FHD Monitor                 1      149.99   \n",
       "4   141238          Wired Headphones                 1       11.99   \n",
       "\n",
       "           Order Date                       Purchase Address  Month  \\\n",
       "0 2019-01-22 21:25:00        944 Walnut St, Boston, MA 02215      1   \n",
       "1 2019-01-28 14:15:00       185 Maple St, Portland, OR 97035      1   \n",
       "2 2019-01-17 13:33:00  538 Adams St, San Francisco, CA 94016      1   \n",
       "3 2019-01-05 20:33:00     738 10th St, Los Angeles, CA 90001      1   \n",
       "4 2019-01-25 11:59:00          387 10th St, Austin, TX 73301      1   \n",
       "\n",
       "  Full_Month   sales  \n",
       "0    January  700.00  \n",
       "1    January   14.95  \n",
       "2    January   23.98  \n",
       "3    January  149.99  \n",
       "4    January   11.99  "
      ]
     },
     "execution_count": 19,
     "metadata": {},
     "output_type": "execute_result"
    }
   ],
   "source": [
    "# Observe change in DataFrame (Additional sales column)\n",
    "df_sales.head()"
   ]
  },
  {
   "cell_type": "code",
   "execution_count": 20,
   "id": "6d635299",
   "metadata": {},
   "outputs": [],
   "source": [
    "monthly_sales = df_sales.groupby(['Month','Full_Month']).sum()[['sales']].reset_index()"
   ]
  },
  {
   "cell_type": "code",
   "execution_count": 21,
   "id": "46c40b72",
   "metadata": {},
   "outputs": [
    {
     "data": {
      "text/html": [
       "<div>\n",
       "<style scoped>\n",
       "    .dataframe tbody tr th:only-of-type {\n",
       "        vertical-align: middle;\n",
       "    }\n",
       "\n",
       "    .dataframe tbody tr th {\n",
       "        vertical-align: top;\n",
       "    }\n",
       "\n",
       "    .dataframe thead th {\n",
       "        text-align: right;\n",
       "    }\n",
       "</style>\n",
       "<table border=\"1\" class=\"dataframe\">\n",
       "  <thead>\n",
       "    <tr style=\"text-align: right;\">\n",
       "      <th></th>\n",
       "      <th>Month</th>\n",
       "      <th>Full_Month</th>\n",
       "      <th>sales</th>\n",
       "    </tr>\n",
       "  </thead>\n",
       "  <tbody>\n",
       "    <tr>\n",
       "      <th>0</th>\n",
       "      <td>1</td>\n",
       "      <td>January</td>\n",
       "      <td>1822256.73</td>\n",
       "    </tr>\n",
       "    <tr>\n",
       "      <th>1</th>\n",
       "      <td>2</td>\n",
       "      <td>February</td>\n",
       "      <td>2202022.42</td>\n",
       "    </tr>\n",
       "    <tr>\n",
       "      <th>2</th>\n",
       "      <td>3</td>\n",
       "      <td>March</td>\n",
       "      <td>2807100.38</td>\n",
       "    </tr>\n",
       "    <tr>\n",
       "      <th>3</th>\n",
       "      <td>4</td>\n",
       "      <td>April</td>\n",
       "      <td>3390670.24</td>\n",
       "    </tr>\n",
       "    <tr>\n",
       "      <th>4</th>\n",
       "      <td>5</td>\n",
       "      <td>May</td>\n",
       "      <td>3152606.75</td>\n",
       "    </tr>\n",
       "    <tr>\n",
       "      <th>5</th>\n",
       "      <td>6</td>\n",
       "      <td>June</td>\n",
       "      <td>2577802.26</td>\n",
       "    </tr>\n",
       "    <tr>\n",
       "      <th>6</th>\n",
       "      <td>7</td>\n",
       "      <td>July</td>\n",
       "      <td>2647775.76</td>\n",
       "    </tr>\n",
       "    <tr>\n",
       "      <th>7</th>\n",
       "      <td>8</td>\n",
       "      <td>August</td>\n",
       "      <td>2244467.88</td>\n",
       "    </tr>\n",
       "    <tr>\n",
       "      <th>8</th>\n",
       "      <td>9</td>\n",
       "      <td>September</td>\n",
       "      <td>2097560.13</td>\n",
       "    </tr>\n",
       "    <tr>\n",
       "      <th>9</th>\n",
       "      <td>10</td>\n",
       "      <td>October</td>\n",
       "      <td>3736726.88</td>\n",
       "    </tr>\n",
       "    <tr>\n",
       "      <th>10</th>\n",
       "      <td>11</td>\n",
       "      <td>November</td>\n",
       "      <td>3199603.20</td>\n",
       "    </tr>\n",
       "    <tr>\n",
       "      <th>11</th>\n",
       "      <td>12</td>\n",
       "      <td>December</td>\n",
       "      <td>4613443.34</td>\n",
       "    </tr>\n",
       "  </tbody>\n",
       "</table>\n",
       "</div>"
      ],
      "text/plain": [
       "    Month Full_Month       sales\n",
       "0       1    January  1822256.73\n",
       "1       2   February  2202022.42\n",
       "2       3      March  2807100.38\n",
       "3       4      April  3390670.24\n",
       "4       5        May  3152606.75\n",
       "5       6       June  2577802.26\n",
       "6       7       July  2647775.76\n",
       "7       8     August  2244467.88\n",
       "8       9  September  2097560.13\n",
       "9      10    October  3736726.88\n",
       "10     11   November  3199603.20\n",
       "11     12   December  4613443.34"
      ]
     },
     "execution_count": 21,
     "metadata": {},
     "output_type": "execute_result"
    }
   ],
   "source": [
    "monthly_sales"
   ]
  },
  {
   "cell_type": "code",
   "execution_count": 22,
   "id": "d6f6501b",
   "metadata": {},
   "outputs": [
    {
     "data": {
      "text/plain": [
       "<AxesSubplot:>"
      ]
     },
     "execution_count": 22,
     "metadata": {},
     "output_type": "execute_result"
    },
    {
     "data": {
      "image/png": "[encoded data removed]",
      "text/plain": [
       "<Figure size 432x288 with 2 Axes>"
      ]
     },
     "metadata": {
      "needs_background": "light"
     },
     "output_type": "display_data"
    }
   ],
   "source": [
    "correlation_matrix = df_sales.corr()\n",
    "sns.heatmap(correlation_matrix, annot=True, cmap='coolwarm')"
   ]
  },
  {
   "cell_type": "code",
   "execution_count": null,
   "id": "c5d61c29",
   "metadata": {},
   "outputs": [],
   "source": [
    "# There is a positive strong relationship between sales and price\n",
    "# There is a week  negative relationship betwee price and quantity ordered\n",
    "# Overall heat map depicts week relationships"
   ]
  },
  {
   "cell_type": "code",
   "execution_count": 23,
   "id": "2d3714b6",
   "metadata": {},
   "outputs": [],
   "source": [
    "# correlations and heatmaps to find factors affects the sales\n",
    "# correlations are not always cause\n",
    "# products and sales\n",
    "# Purchase address and sales"
   ]
  },
  {
   "cell_type": "code",
   "execution_count": 24,
   "id": "09feb41a",
   "metadata": {},
   "outputs": [],
   "source": [
    "# Fix 'Month_Full' column data type \n",
    "monthly_sales['Full_Month']=  monthly_sales['Full_Month'].astype('str')\n"
   ]
  },
  {
   "cell_type": "code",
   "execution_count": 25,
   "id": "721151d2",
   "metadata": {},
   "outputs": [
    {
     "data": {
      "image/png": "[encoded data removed]",
      "text/plain": [
       "<Figure size 432x288 with 1 Axes>"
      ]
     },
     "metadata": {
      "needs_background": "light"
     },
     "output_type": "display_data"
    }
   ],
   "source": [
    "# Sales trend during the year 2019\n",
    "lines = monthly_sales.plot.line('Full_Month', 'sales', marker='o')\n",
    "y= monthly_sales['sales']\n",
    "x= monthly_sales['Full_Month']\n",
    "plt.xlabel('Month')\n",
    "plt.ylabel('sales')\n",
    "plt.title('Monthly Sales')\n",
    "plt.xticks(rotation=90)\n",
    "plt.show()\n"
   ]
  },
  {
   "cell_type": "code",
   "execution_count": 26,
   "id": "b74548e0",
   "metadata": {},
   "outputs": [
    {
     "data": {
      "image/png": "[encoded data removed]",
      "text/plain": [
       "<Figure size 1152x288 with 1 Axes>"
      ]
     },
     "metadata": {
      "needs_background": "light"
     },
     "output_type": "display_data"
    }
   ],
   "source": [
    "# Finding best month for sales\n",
    "# Set the figure size (optional)\n",
    "plt.figure(figsize=(16, 4))\n",
    "# Plot the bar graph\n",
    "plt.bar(monthly_sales['Full_Month'], monthly_sales['sales'])\n",
    "\n",
    "# Add labels and title\n",
    "plt.ylabel('sales')\n",
    "plt.xlabel('Month')\n",
    "plt.title('Monthly Sales')\n",
    "plt.xticks(monthly_sales['Full_Month'])\n",
    "\n",
    "# Show the plot\n",
    "plt.show()\n"
   ]
  },
  {
   "cell_type": "code",
   "execution_count": 27,
   "id": "feaeeb97",
   "metadata": {},
   "outputs": [],
   "source": [
    "# Highest sales month is December"
   ]
  },
  {
   "cell_type": "code",
   "execution_count": 28,
   "id": "b77ec29c",
   "metadata": {},
   "outputs": [
    {
     "data": {
      "text/plain": [
       "Index(['Order ID', 'Product', 'Quantity Ordered', 'Price Each', 'Order Date',\n",
       "       'Purchase Address', 'Month', 'Full_Month', 'sales'],\n",
       "      dtype='object')"
      ]
     },
     "execution_count": 28,
     "metadata": {},
     "output_type": "execute_result"
    }
   ],
   "source": [
    "df_sales.columns"
   ]
  },
  {
   "cell_type": "code",
   "execution_count": 29,
   "id": "5ad2a1ea",
   "metadata": {},
   "outputs": [
    {
     "data": {
      "text/html": [
       "<div>\n",
       "<style scoped>\n",
       "    .dataframe tbody tr th:only-of-type {\n",
       "        vertical-align: middle;\n",
       "    }\n",
       "\n",
       "    .dataframe tbody tr th {\n",
       "        vertical-align: top;\n",
       "    }\n",
       "\n",
       "    .dataframe thead th {\n",
       "        text-align: right;\n",
       "    }\n",
       "</style>\n",
       "<table border=\"1\" class=\"dataframe\">\n",
       "  <thead>\n",
       "    <tr style=\"text-align: right;\">\n",
       "      <th></th>\n",
       "      <th>Order ID</th>\n",
       "      <th>Product</th>\n",
       "      <th>Quantity Ordered</th>\n",
       "      <th>Price Each</th>\n",
       "      <th>Order Date</th>\n",
       "      <th>Purchase Address</th>\n",
       "      <th>Month</th>\n",
       "      <th>Full_Month</th>\n",
       "      <th>sales</th>\n",
       "    </tr>\n",
       "  </thead>\n",
       "  <tbody>\n",
       "    <tr>\n",
       "      <th>0</th>\n",
       "      <td>141234</td>\n",
       "      <td>iPhone</td>\n",
       "      <td>1</td>\n",
       "      <td>700.00</td>\n",
       "      <td>2019-01-22 21:25:00</td>\n",
       "      <td>944 Walnut St, Boston, MA 02215</td>\n",
       "      <td>1</td>\n",
       "      <td>January</td>\n",
       "      <td>700.00</td>\n",
       "    </tr>\n",
       "    <tr>\n",
       "      <th>1</th>\n",
       "      <td>141235</td>\n",
       "      <td>Lightning Charging Cable</td>\n",
       "      <td>1</td>\n",
       "      <td>14.95</td>\n",
       "      <td>2019-01-28 14:15:00</td>\n",
       "      <td>185 Maple St, Portland, OR 97035</td>\n",
       "      <td>1</td>\n",
       "      <td>January</td>\n",
       "      <td>14.95</td>\n",
       "    </tr>\n",
       "    <tr>\n",
       "      <th>2</th>\n",
       "      <td>141236</td>\n",
       "      <td>Wired Headphones</td>\n",
       "      <td>2</td>\n",
       "      <td>11.99</td>\n",
       "      <td>2019-01-17 13:33:00</td>\n",
       "      <td>538 Adams St, San Francisco, CA 94016</td>\n",
       "      <td>1</td>\n",
       "      <td>January</td>\n",
       "      <td>23.98</td>\n",
       "    </tr>\n",
       "    <tr>\n",
       "      <th>3</th>\n",
       "      <td>141237</td>\n",
       "      <td>27in FHD Monitor</td>\n",
       "      <td>1</td>\n",
       "      <td>149.99</td>\n",
       "      <td>2019-01-05 20:33:00</td>\n",
       "      <td>738 10th St, Los Angeles, CA 90001</td>\n",
       "      <td>1</td>\n",
       "      <td>January</td>\n",
       "      <td>149.99</td>\n",
       "    </tr>\n",
       "    <tr>\n",
       "      <th>4</th>\n",
       "      <td>141238</td>\n",
       "      <td>Wired Headphones</td>\n",
       "      <td>1</td>\n",
       "      <td>11.99</td>\n",
       "      <td>2019-01-25 11:59:00</td>\n",
       "      <td>387 10th St, Austin, TX 73301</td>\n",
       "      <td>1</td>\n",
       "      <td>January</td>\n",
       "      <td>11.99</td>\n",
       "    </tr>\n",
       "  </tbody>\n",
       "</table>\n",
       "</div>"
      ],
      "text/plain": [
       "  Order ID                   Product  Quantity Ordered  Price Each  \\\n",
       "0   141234                    iPhone                 1      700.00   \n",
       "1   141235  Lightning Charging Cable                 1       14.95   \n",
       "2   141236          Wired Headphones                 2       11.99   \n",
       "3   141237          27in FHD Monitor                 1      149.99   \n",
       "4   141238          Wired Headphones                 1       11.99   \n",
       "\n",
       "           Order Date                       Purchase Address  Month  \\\n",
       "0 2019-01-22 21:25:00        944 Walnut St, Boston, MA 02215      1   \n",
       "1 2019-01-28 14:15:00       185 Maple St, Portland, OR 97035      1   \n",
       "2 2019-01-17 13:33:00  538 Adams St, San Francisco, CA 94016      1   \n",
       "3 2019-01-05 20:33:00     738 10th St, Los Angeles, CA 90001      1   \n",
       "4 2019-01-25 11:59:00          387 10th St, Austin, TX 73301      1   \n",
       "\n",
       "  Full_Month   sales  \n",
       "0    January  700.00  \n",
       "1    January   14.95  \n",
       "2    January   23.98  \n",
       "3    January  149.99  \n",
       "4    January   11.99  "
      ]
     },
     "execution_count": 29,
     "metadata": {},
     "output_type": "execute_result"
    }
   ],
   "source": [
    "df_sales.head()"
   ]
  },
  {
   "cell_type": "code",
   "execution_count": 30,
   "id": "94992e92",
   "metadata": {},
   "outputs": [],
   "source": [
    "# Extract city from 'Purchase Address'\n",
    "df_sales['Post Code'] = df_sales['Purchase Address'].apply(lambda x: x.split(' ')[-1])\n",
    "df_sales['State'] = df_sales['Purchase Address'].apply(lambda x: x.split(' ')[-2])\n",
    "df_sales['City'] = df_sales['Purchase Address'].apply(lambda x: x.split(',')[1])"
   ]
  },
  {
   "cell_type": "code",
   "execution_count": 31,
   "id": "c5f2039c",
   "metadata": {},
   "outputs": [
    {
     "data": {
      "text/html": [
       "<div>\n",
       "<style scoped>\n",
       "    .dataframe tbody tr th:only-of-type {\n",
       "        vertical-align: middle;\n",
       "    }\n",
       "\n",
       "    .dataframe tbody tr th {\n",
       "        vertical-align: top;\n",
       "    }\n",
       "\n",
       "    .dataframe thead th {\n",
       "        text-align: right;\n",
       "    }\n",
       "</style>\n",
       "<table border=\"1\" class=\"dataframe\">\n",
       "  <thead>\n",
       "    <tr style=\"text-align: right;\">\n",
       "      <th></th>\n",
       "      <th>Order ID</th>\n",
       "      <th>Product</th>\n",
       "      <th>Quantity Ordered</th>\n",
       "      <th>Price Each</th>\n",
       "      <th>Order Date</th>\n",
       "      <th>Purchase Address</th>\n",
       "      <th>Month</th>\n",
       "      <th>Full_Month</th>\n",
       "      <th>sales</th>\n",
       "      <th>Post Code</th>\n",
       "      <th>State</th>\n",
       "      <th>City</th>\n",
       "    </tr>\n",
       "  </thead>\n",
       "  <tbody>\n",
       "    <tr>\n",
       "      <th>0</th>\n",
       "      <td>141234</td>\n",
       "      <td>iPhone</td>\n",
       "      <td>1</td>\n",
       "      <td>700.00</td>\n",
       "      <td>2019-01-22 21:25:00</td>\n",
       "      <td>944 Walnut St, Boston, MA 02215</td>\n",
       "      <td>1</td>\n",
       "      <td>January</td>\n",
       "      <td>700.00</td>\n",
       "      <td>02215</td>\n",
       "      <td>MA</td>\n",
       "      <td>Boston</td>\n",
       "    </tr>\n",
       "    <tr>\n",
       "      <th>1</th>\n",
       "      <td>141235</td>\n",
       "      <td>Lightning Charging Cable</td>\n",
       "      <td>1</td>\n",
       "      <td>14.95</td>\n",
       "      <td>2019-01-28 14:15:00</td>\n",
       "      <td>185 Maple St, Portland, OR 97035</td>\n",
       "      <td>1</td>\n",
       "      <td>January</td>\n",
       "      <td>14.95</td>\n",
       "      <td>97035</td>\n",
       "      <td>OR</td>\n",
       "      <td>Portland</td>\n",
       "    </tr>\n",
       "    <tr>\n",
       "      <th>2</th>\n",
       "      <td>141236</td>\n",
       "      <td>Wired Headphones</td>\n",
       "      <td>2</td>\n",
       "      <td>11.99</td>\n",
       "      <td>2019-01-17 13:33:00</td>\n",
       "      <td>538 Adams St, San Francisco, CA 94016</td>\n",
       "      <td>1</td>\n",
       "      <td>January</td>\n",
       "      <td>23.98</td>\n",
       "      <td>94016</td>\n",
       "      <td>CA</td>\n",
       "      <td>San Francisco</td>\n",
       "    </tr>\n",
       "    <tr>\n",
       "      <th>3</th>\n",
       "      <td>141237</td>\n",
       "      <td>27in FHD Monitor</td>\n",
       "      <td>1</td>\n",
       "      <td>149.99</td>\n",
       "      <td>2019-01-05 20:33:00</td>\n",
       "      <td>738 10th St, Los Angeles, CA 90001</td>\n",
       "      <td>1</td>\n",
       "      <td>January</td>\n",
       "      <td>149.99</td>\n",
       "      <td>90001</td>\n",
       "      <td>CA</td>\n",
       "      <td>Los Angeles</td>\n",
       "    </tr>\n",
       "    <tr>\n",
       "      <th>4</th>\n",
       "      <td>141238</td>\n",
       "      <td>Wired Headphones</td>\n",
       "      <td>1</td>\n",
       "      <td>11.99</td>\n",
       "      <td>2019-01-25 11:59:00</td>\n",
       "      <td>387 10th St, Austin, TX 73301</td>\n",
       "      <td>1</td>\n",
       "      <td>January</td>\n",
       "      <td>11.99</td>\n",
       "      <td>73301</td>\n",
       "      <td>TX</td>\n",
       "      <td>Austin</td>\n",
       "    </tr>\n",
       "  </tbody>\n",
       "</table>\n",
       "</div>"
      ],
      "text/plain": [
       "  Order ID                   Product  Quantity Ordered  Price Each  \\\n",
       "0   141234                    iPhone                 1      700.00   \n",
       "1   141235  Lightning Charging Cable                 1       14.95   \n",
       "2   141236          Wired Headphones                 2       11.99   \n",
       "3   141237          27in FHD Monitor                 1      149.99   \n",
       "4   141238          Wired Headphones                 1       11.99   \n",
       "\n",
       "           Order Date                       Purchase Address  Month  \\\n",
       "0 2019-01-22 21:25:00        944 Walnut St, Boston, MA 02215      1   \n",
       "1 2019-01-28 14:15:00       185 Maple St, Portland, OR 97035      1   \n",
       "2 2019-01-17 13:33:00  538 Adams St, San Francisco, CA 94016      1   \n",
       "3 2019-01-05 20:33:00     738 10th St, Los Angeles, CA 90001      1   \n",
       "4 2019-01-25 11:59:00          387 10th St, Austin, TX 73301      1   \n",
       "\n",
       "  Full_Month   sales Post Code State            City  \n",
       "0    January  700.00     02215    MA          Boston  \n",
       "1    January   14.95     97035    OR        Portland  \n",
       "2    January   23.98     94016    CA   San Francisco  \n",
       "3    January  149.99     90001    CA     Los Angeles  \n",
       "4    January   11.99     73301    TX          Austin  "
      ]
     },
     "execution_count": 31,
     "metadata": {},
     "output_type": "execute_result"
    }
   ],
   "source": [
    "df_sales.head()"
   ]
  },
  {
   "cell_type": "code",
   "execution_count": 32,
   "id": "ea91b7a9",
   "metadata": {},
   "outputs": [
    {
     "data": {
      "text/html": [
       "<div>\n",
       "<style scoped>\n",
       "    .dataframe tbody tr th:only-of-type {\n",
       "        vertical-align: middle;\n",
       "    }\n",
       "\n",
       "    .dataframe tbody tr th {\n",
       "        vertical-align: top;\n",
       "    }\n",
       "\n",
       "    .dataframe thead th {\n",
       "        text-align: right;\n",
       "    }\n",
       "</style>\n",
       "<table border=\"1\" class=\"dataframe\">\n",
       "  <thead>\n",
       "    <tr style=\"text-align: right;\">\n",
       "      <th></th>\n",
       "      <th>City</th>\n",
       "      <th>sales</th>\n",
       "    </tr>\n",
       "  </thead>\n",
       "  <tbody>\n",
       "    <tr>\n",
       "      <th>0</th>\n",
       "      <td>Atlanta</td>\n",
       "      <td>2795498.58</td>\n",
       "    </tr>\n",
       "    <tr>\n",
       "      <th>1</th>\n",
       "      <td>Austin</td>\n",
       "      <td>1819581.75</td>\n",
       "    </tr>\n",
       "    <tr>\n",
       "      <th>2</th>\n",
       "      <td>Boston</td>\n",
       "      <td>3661642.01</td>\n",
       "    </tr>\n",
       "    <tr>\n",
       "      <th>3</th>\n",
       "      <td>Dallas</td>\n",
       "      <td>2767975.40</td>\n",
       "    </tr>\n",
       "    <tr>\n",
       "      <th>4</th>\n",
       "      <td>Los Angeles</td>\n",
       "      <td>5452570.80</td>\n",
       "    </tr>\n",
       "  </tbody>\n",
       "</table>\n",
       "</div>"
      ],
      "text/plain": [
       "           City       sales\n",
       "0       Atlanta  2795498.58\n",
       "1        Austin  1819581.75\n",
       "2        Boston  3661642.01\n",
       "3        Dallas  2767975.40\n",
       "4   Los Angeles  5452570.80"
      ]
     },
     "execution_count": 32,
     "metadata": {},
     "output_type": "execute_result"
    }
   ],
   "source": [
    "# Calculate sales volume by city\n",
    "sale_city =df_sales.groupby('City').sum()[['sales']].reset_index()\n",
    "# Fix 'City' column data type \n",
    "sale_city['City']=  sale_city['City'].astype('str')\n",
    "sale_city.head()"
   ]
  },
  {
   "cell_type": "code",
   "execution_count": 33,
   "id": "e6efa705",
   "metadata": {},
   "outputs": [
    {
     "name": "stdout",
     "output_type": "stream",
     "text": [
      "9\n"
     ]
    }
   ],
   "source": [
    "unique_count = sale_city['City'].nunique()\n",
    "print(unique_count)"
   ]
  },
  {
   "cell_type": "code",
   "execution_count": 34,
   "id": "8a39c96f",
   "metadata": {
    "scrolled": true
   },
   "outputs": [
    {
     "data": {
      "image/png": "[encoded data removed]",
      "text/plain": [
       "<Figure size 1152x288 with 1 Axes>"
      ]
     },
     "metadata": {
      "needs_background": "light"
     },
     "output_type": "display_data"
    }
   ],
   "source": [
    "# Finding best city for sales in 2019\n",
    "# Set the figure size (optional)\n",
    "plt.figure(figsize=(16, 4))\n",
    "# Plot the bar graph\n",
    "plt.bar(sale_city['City'], sale_city['sales'])\n",
    "\n",
    "# Add labels and title\n",
    "plt.xlabel('City')\n",
    "plt.ylabel('sales')\n",
    "plt.title('Sales by City')\n",
    "plt.xticks(sale_city['City'])\n",
    "\n",
    "# Show the plot\n",
    "plt.show()"
   ]
  },
  {
   "cell_type": "code",
   "execution_count": 35,
   "id": "c1105d1c",
   "metadata": {},
   "outputs": [],
   "source": [
    "# San Francisco had highest sales during year 2019"
   ]
  },
  {
   "cell_type": "code",
   "execution_count": 36,
   "id": "19d0e1b4",
   "metadata": {},
   "outputs": [],
   "source": [
    "# Extract hours from 'Order Date'\n",
    "df_sales['Hour'] = df_sales['Order Date'].dt.hour"
   ]
  },
  {
   "cell_type": "code",
   "execution_count": 37,
   "id": "4e687c4c",
   "metadata": {},
   "outputs": [],
   "source": [
    "#Extract minutes from 'Order Date'\n",
    "df_sales['Minute'] = df_sales['Order Date'].dt.minute"
   ]
  },
  {
   "cell_type": "code",
   "execution_count": 38,
   "id": "c2b42e44",
   "metadata": {},
   "outputs": [
    {
     "data": {
      "text/html": [
       "<div>\n",
       "<style scoped>\n",
       "    .dataframe tbody tr th:only-of-type {\n",
       "        vertical-align: middle;\n",
       "    }\n",
       "\n",
       "    .dataframe tbody tr th {\n",
       "        vertical-align: top;\n",
       "    }\n",
       "\n",
       "    .dataframe thead th {\n",
       "        text-align: right;\n",
       "    }\n",
       "</style>\n",
       "<table border=\"1\" class=\"dataframe\">\n",
       "  <thead>\n",
       "    <tr style=\"text-align: right;\">\n",
       "      <th></th>\n",
       "      <th>Order ID</th>\n",
       "      <th>Product</th>\n",
       "      <th>Quantity Ordered</th>\n",
       "      <th>Price Each</th>\n",
       "      <th>Order Date</th>\n",
       "      <th>Purchase Address</th>\n",
       "      <th>Month</th>\n",
       "      <th>Full_Month</th>\n",
       "      <th>sales</th>\n",
       "      <th>Post Code</th>\n",
       "      <th>State</th>\n",
       "      <th>City</th>\n",
       "      <th>Hour</th>\n",
       "      <th>Minute</th>\n",
       "    </tr>\n",
       "  </thead>\n",
       "  <tbody>\n",
       "    <tr>\n",
       "      <th>0</th>\n",
       "      <td>141234</td>\n",
       "      <td>iPhone</td>\n",
       "      <td>1</td>\n",
       "      <td>700.00</td>\n",
       "      <td>2019-01-22 21:25:00</td>\n",
       "      <td>944 Walnut St, Boston, MA 02215</td>\n",
       "      <td>1</td>\n",
       "      <td>January</td>\n",
       "      <td>700.00</td>\n",
       "      <td>02215</td>\n",
       "      <td>MA</td>\n",
       "      <td>Boston</td>\n",
       "      <td>21</td>\n",
       "      <td>25</td>\n",
       "    </tr>\n",
       "    <tr>\n",
       "      <th>1</th>\n",
       "      <td>141235</td>\n",
       "      <td>Lightning Charging Cable</td>\n",
       "      <td>1</td>\n",
       "      <td>14.95</td>\n",
       "      <td>2019-01-28 14:15:00</td>\n",
       "      <td>185 Maple St, Portland, OR 97035</td>\n",
       "      <td>1</td>\n",
       "      <td>January</td>\n",
       "      <td>14.95</td>\n",
       "      <td>97035</td>\n",
       "      <td>OR</td>\n",
       "      <td>Portland</td>\n",
       "      <td>14</td>\n",
       "      <td>15</td>\n",
       "    </tr>\n",
       "    <tr>\n",
       "      <th>2</th>\n",
       "      <td>141236</td>\n",
       "      <td>Wired Headphones</td>\n",
       "      <td>2</td>\n",
       "      <td>11.99</td>\n",
       "      <td>2019-01-17 13:33:00</td>\n",
       "      <td>538 Adams St, San Francisco, CA 94016</td>\n",
       "      <td>1</td>\n",
       "      <td>January</td>\n",
       "      <td>23.98</td>\n",
       "      <td>94016</td>\n",
       "      <td>CA</td>\n",
       "      <td>San Francisco</td>\n",
       "      <td>13</td>\n",
       "      <td>33</td>\n",
       "    </tr>\n",
       "    <tr>\n",
       "      <th>3</th>\n",
       "      <td>141237</td>\n",
       "      <td>27in FHD Monitor</td>\n",
       "      <td>1</td>\n",
       "      <td>149.99</td>\n",
       "      <td>2019-01-05 20:33:00</td>\n",
       "      <td>738 10th St, Los Angeles, CA 90001</td>\n",
       "      <td>1</td>\n",
       "      <td>January</td>\n",
       "      <td>149.99</td>\n",
       "      <td>90001</td>\n",
       "      <td>CA</td>\n",
       "      <td>Los Angeles</td>\n",
       "      <td>20</td>\n",
       "      <td>33</td>\n",
       "    </tr>\n",
       "    <tr>\n",
       "      <th>4</th>\n",
       "      <td>141238</td>\n",
       "      <td>Wired Headphones</td>\n",
       "      <td>1</td>\n",
       "      <td>11.99</td>\n",
       "      <td>2019-01-25 11:59:00</td>\n",
       "      <td>387 10th St, Austin, TX 73301</td>\n",
       "      <td>1</td>\n",
       "      <td>January</td>\n",
       "      <td>11.99</td>\n",
       "      <td>73301</td>\n",
       "      <td>TX</td>\n",
       "      <td>Austin</td>\n",
       "      <td>11</td>\n",
       "      <td>59</td>\n",
       "    </tr>\n",
       "  </tbody>\n",
       "</table>\n",
       "</div>"
      ],
      "text/plain": [
       "  Order ID                   Product  Quantity Ordered  Price Each  \\\n",
       "0   141234                    iPhone                 1      700.00   \n",
       "1   141235  Lightning Charging Cable                 1       14.95   \n",
       "2   141236          Wired Headphones                 2       11.99   \n",
       "3   141237          27in FHD Monitor                 1      149.99   \n",
       "4   141238          Wired Headphones                 1       11.99   \n",
       "\n",
       "           Order Date                       Purchase Address  Month  \\\n",
       "0 2019-01-22 21:25:00        944 Walnut St, Boston, MA 02215      1   \n",
       "1 2019-01-28 14:15:00       185 Maple St, Portland, OR 97035      1   \n",
       "2 2019-01-17 13:33:00  538 Adams St, San Francisco, CA 94016      1   \n",
       "3 2019-01-05 20:33:00     738 10th St, Los Angeles, CA 90001      1   \n",
       "4 2019-01-25 11:59:00          387 10th St, Austin, TX 73301      1   \n",
       "\n",
       "  Full_Month   sales Post Code State            City  Hour  Minute  \n",
       "0    January  700.00     02215    MA          Boston    21      25  \n",
       "1    January   14.95     97035    OR        Portland    14      15  \n",
       "2    January   23.98     94016    CA   San Francisco    13      33  \n",
       "3    January  149.99     90001    CA     Los Angeles    20      33  \n",
       "4    January   11.99     73301    TX          Austin    11      59  "
      ]
     },
     "execution_count": 38,
     "metadata": {},
     "output_type": "execute_result"
    }
   ],
   "source": [
    "df_sales.head()"
   ]
  },
  {
   "cell_type": "code",
   "execution_count": 39,
   "id": "5f9343f3",
   "metadata": {},
   "outputs": [],
   "source": [
    "Orders_by_hour= df_sales.groupby('Hour').count()[['Order ID']].reset_index()"
   ]
  },
  {
   "cell_type": "code",
   "execution_count": 40,
   "id": "d21e2bd1",
   "metadata": {},
   "outputs": [
    {
     "name": "stdout",
     "output_type": "stream",
     "text": [
      "24\n"
     ]
    }
   ],
   "source": [
    "unique_count = Orders_by_hour['Hour'].nunique()\n",
    "print(unique_count)"
   ]
  },
  {
   "cell_type": "code",
   "execution_count": 41,
   "id": "51fed942",
   "metadata": {},
   "outputs": [
    {
     "data": {
      "image/png": "[encoded data removed]",
      "text/plain": [
       "<Figure size 432x288 with 1 Axes>"
      ]
     },
     "metadata": {
      "needs_background": "light"
     },
     "output_type": "display_data"
    }
   ],
   "source": [
    "# Hourly sales trend\n",
    "lines = Orders_by_hour.plot.line('Hour', 'Order ID', marker='o')\n",
    "y= Orders_by_hour['Order ID']\n",
    "x= Orders_by_hour['Hour']\n",
    "plt.xlabel('Hour')\n",
    "plt.ylabel('Order')\n",
    "plt.title('Hourly Sales Trend ')\n",
    "plt.show()\n"
   ]
  },
  {
   "cell_type": "code",
   "execution_count": 42,
   "id": "58a9b59c",
   "metadata": {},
   "outputs": [],
   "source": [
    "# Best time to display advertisements is between 10am to 8pm, as most customers are placing orders during these hours"
   ]
  },
  {
   "cell_type": "code",
   "execution_count": 43,
   "id": "a8efd6ff",
   "metadata": {},
   "outputs": [
    {
     "data": {
      "text/html": [
       "<div>\n",
       "<style scoped>\n",
       "    .dataframe tbody tr th:only-of-type {\n",
       "        vertical-align: middle;\n",
       "    }\n",
       "\n",
       "    .dataframe tbody tr th {\n",
       "        vertical-align: top;\n",
       "    }\n",
       "\n",
       "    .dataframe thead th {\n",
       "        text-align: right;\n",
       "    }\n",
       "</style>\n",
       "<table border=\"1\" class=\"dataframe\">\n",
       "  <thead>\n",
       "    <tr style=\"text-align: right;\">\n",
       "      <th></th>\n",
       "      <th>Order ID</th>\n",
       "      <th>Product</th>\n",
       "      <th>Quantity Ordered</th>\n",
       "      <th>Price Each</th>\n",
       "      <th>Order Date</th>\n",
       "      <th>Purchase Address</th>\n",
       "      <th>Month</th>\n",
       "      <th>Full_Month</th>\n",
       "      <th>sales</th>\n",
       "      <th>Post Code</th>\n",
       "      <th>State</th>\n",
       "      <th>City</th>\n",
       "      <th>Hour</th>\n",
       "      <th>Minute</th>\n",
       "    </tr>\n",
       "  </thead>\n",
       "  <tbody>\n",
       "    <tr>\n",
       "      <th>41</th>\n",
       "      <td>141275</td>\n",
       "      <td>USB-C Charging Cable</td>\n",
       "      <td>1</td>\n",
       "      <td>11.95</td>\n",
       "      <td>2019-01-07 16:06:00</td>\n",
       "      <td>610 Walnut St, Austin, TX 73301</td>\n",
       "      <td>1</td>\n",
       "      <td>January</td>\n",
       "      <td>11.95</td>\n",
       "      <td>73301</td>\n",
       "      <td>TX</td>\n",
       "      <td>Austin</td>\n",
       "      <td>16</td>\n",
       "      <td>6</td>\n",
       "    </tr>\n",
       "    <tr>\n",
       "      <th>42</th>\n",
       "      <td>141275</td>\n",
       "      <td>Wired Headphones</td>\n",
       "      <td>1</td>\n",
       "      <td>11.99</td>\n",
       "      <td>2019-01-07 16:06:00</td>\n",
       "      <td>610 Walnut St, Austin, TX 73301</td>\n",
       "      <td>1</td>\n",
       "      <td>January</td>\n",
       "      <td>11.99</td>\n",
       "      <td>73301</td>\n",
       "      <td>TX</td>\n",
       "      <td>Austin</td>\n",
       "      <td>16</td>\n",
       "      <td>6</td>\n",
       "    </tr>\n",
       "    <tr>\n",
       "      <th>57</th>\n",
       "      <td>141290</td>\n",
       "      <td>Apple Airpods Headphones</td>\n",
       "      <td>1</td>\n",
       "      <td>150.00</td>\n",
       "      <td>2019-01-02 08:25:00</td>\n",
       "      <td>4 1st St, Los Angeles, CA 90001</td>\n",
       "      <td>1</td>\n",
       "      <td>January</td>\n",
       "      <td>150.00</td>\n",
       "      <td>90001</td>\n",
       "      <td>CA</td>\n",
       "      <td>Los Angeles</td>\n",
       "      <td>8</td>\n",
       "      <td>25</td>\n",
       "    </tr>\n",
       "    <tr>\n",
       "      <th>58</th>\n",
       "      <td>141290</td>\n",
       "      <td>AA Batteries (4-pack)</td>\n",
       "      <td>3</td>\n",
       "      <td>3.84</td>\n",
       "      <td>2019-01-02 08:25:00</td>\n",
       "      <td>4 1st St, Los Angeles, CA 90001</td>\n",
       "      <td>1</td>\n",
       "      <td>January</td>\n",
       "      <td>11.52</td>\n",
       "      <td>90001</td>\n",
       "      <td>CA</td>\n",
       "      <td>Los Angeles</td>\n",
       "      <td>8</td>\n",
       "      <td>25</td>\n",
       "    </tr>\n",
       "    <tr>\n",
       "      <th>133</th>\n",
       "      <td>141365</td>\n",
       "      <td>Vareebadd Phone</td>\n",
       "      <td>1</td>\n",
       "      <td>400.00</td>\n",
       "      <td>2019-01-10 11:19:00</td>\n",
       "      <td>20 Dogwood St, New York City, NY 10001</td>\n",
       "      <td>1</td>\n",
       "      <td>January</td>\n",
       "      <td>400.00</td>\n",
       "      <td>10001</td>\n",
       "      <td>NY</td>\n",
       "      <td>New York City</td>\n",
       "      <td>11</td>\n",
       "      <td>19</td>\n",
       "    </tr>\n",
       "  </tbody>\n",
       "</table>\n",
       "</div>"
      ],
      "text/plain": [
       "    Order ID                   Product  Quantity Ordered  Price Each  \\\n",
       "41    141275      USB-C Charging Cable                 1       11.95   \n",
       "42    141275          Wired Headphones                 1       11.99   \n",
       "57    141290  Apple Airpods Headphones                 1      150.00   \n",
       "58    141290     AA Batteries (4-pack)                 3        3.84   \n",
       "133   141365           Vareebadd Phone                 1      400.00   \n",
       "\n",
       "             Order Date                        Purchase Address  Month  \\\n",
       "41  2019-01-07 16:06:00         610 Walnut St, Austin, TX 73301      1   \n",
       "42  2019-01-07 16:06:00         610 Walnut St, Austin, TX 73301      1   \n",
       "57  2019-01-02 08:25:00         4 1st St, Los Angeles, CA 90001      1   \n",
       "58  2019-01-02 08:25:00         4 1st St, Los Angeles, CA 90001      1   \n",
       "133 2019-01-10 11:19:00  20 Dogwood St, New York City, NY 10001      1   \n",
       "\n",
       "    Full_Month   sales Post Code State            City  Hour  Minute  \n",
       "41     January   11.95     73301    TX          Austin    16       6  \n",
       "42     January   11.99     73301    TX          Austin    16       6  \n",
       "57     January  150.00     90001    CA     Los Angeles     8      25  \n",
       "58     January   11.52     90001    CA     Los Angeles     8      25  \n",
       "133    January  400.00     10001    NY   New York City    11      19  "
      ]
     },
     "execution_count": 43,
     "metadata": {},
     "output_type": "execute_result"
    }
   ],
   "source": [
    "#Extract 'Orderd ID' from DataFrame \n",
    "Multiple_Orders= df_sales[df_sales['Order ID'].duplicated(keep= False)]\n",
    "Multiple_Orders.head()"
   ]
  },
  {
   "cell_type": "code",
   "execution_count": 44,
   "id": "60469137",
   "metadata": {},
   "outputs": [
    {
     "name": "stderr",
     "output_type": "stream",
     "text": [
      "C:\\Users\\Somiya\\AppData\\Local\\Temp/ipykernel_89372/827087216.py:2: SettingWithCopyWarning: \n",
      "A value is trying to be set on a copy of a slice from a DataFrame.\n",
      "Try using .loc[row_indexer,col_indexer] = value instead\n",
      "\n",
      "See the caveats in the documentation: https://pandas.pydata.org/pandas-docs/stable/user_guide/indexing.html#returning-a-view-versus-a-copy\n",
      "  Multiple_Orders['Grouped'] = Multiple_Orders.groupby('Order ID')['Product'].transform(lambda x: ','.join(x))\n"
     ]
    }
   ],
   "source": [
    "# Products are grouped by Order ID and combined in single column 'Grouped'\n",
    "Multiple_Orders['Grouped'] = Multiple_Orders.groupby('Order ID')['Product'].transform(lambda x: ','.join(x))"
   ]
  },
  {
   "cell_type": "code",
   "execution_count": 45,
   "id": "14512929",
   "metadata": {},
   "outputs": [],
   "source": [
    "# dropping any duplicate results for unique combination counts\n",
    "Multiple_Orders =  Multiple_Orders[['Order ID', 'Grouped']].drop_duplicates()"
   ]
  },
  {
   "cell_type": "code",
   "execution_count": 46,
   "id": "5026182e",
   "metadata": {},
   "outputs": [
    {
     "data": {
      "text/html": [
       "<div>\n",
       "<style scoped>\n",
       "    .dataframe tbody tr th:only-of-type {\n",
       "        vertical-align: middle;\n",
       "    }\n",
       "\n",
       "    .dataframe tbody tr th {\n",
       "        vertical-align: top;\n",
       "    }\n",
       "\n",
       "    .dataframe thead th {\n",
       "        text-align: right;\n",
       "    }\n",
       "</style>\n",
       "<table border=\"1\" class=\"dataframe\">\n",
       "  <thead>\n",
       "    <tr style=\"text-align: right;\">\n",
       "      <th></th>\n",
       "      <th>Order ID</th>\n",
       "      <th>Grouped</th>\n",
       "    </tr>\n",
       "  </thead>\n",
       "  <tbody>\n",
       "    <tr>\n",
       "      <th>41</th>\n",
       "      <td>141275</td>\n",
       "      <td>USB-C Charging Cable,Wired Headphones</td>\n",
       "    </tr>\n",
       "    <tr>\n",
       "      <th>57</th>\n",
       "      <td>141290</td>\n",
       "      <td>Apple Airpods Headphones,AA Batteries (4-pack)</td>\n",
       "    </tr>\n",
       "    <tr>\n",
       "      <th>133</th>\n",
       "      <td>141365</td>\n",
       "      <td>Vareebadd Phone,Wired Headphones</td>\n",
       "    </tr>\n",
       "    <tr>\n",
       "      <th>153</th>\n",
       "      <td>141384</td>\n",
       "      <td>Google Phone,USB-C Charging Cable</td>\n",
       "    </tr>\n",
       "    <tr>\n",
       "      <th>220</th>\n",
       "      <td>141450</td>\n",
       "      <td>Google Phone,Bose SoundSport Headphones</td>\n",
       "    </tr>\n",
       "  </tbody>\n",
       "</table>\n",
       "</div>"
      ],
      "text/plain": [
       "    Order ID                                         Grouped\n",
       "41    141275           USB-C Charging Cable,Wired Headphones\n",
       "57    141290  Apple Airpods Headphones,AA Batteries (4-pack)\n",
       "133   141365                Vareebadd Phone,Wired Headphones\n",
       "153   141384               Google Phone,USB-C Charging Cable\n",
       "220   141450         Google Phone,Bose SoundSport Headphones"
      ]
     },
     "execution_count": 46,
     "metadata": {},
     "output_type": "execute_result"
    }
   ],
   "source": [
    "Multiple_Orders.head()"
   ]
  },
  {
   "cell_type": "code",
   "execution_count": 47,
   "id": "39fb1580",
   "metadata": {},
   "outputs": [
    {
     "data": {
      "text/plain": [
       "(7136, 2)"
      ]
     },
     "execution_count": 47,
     "metadata": {},
     "output_type": "execute_result"
    }
   ],
   "source": [
    "Multiple_Orders.shape"
   ]
  },
  {
   "cell_type": "code",
   "execution_count": 48,
   "id": "f4189a21",
   "metadata": {},
   "outputs": [],
   "source": [
    "# import iteratros and counters\n",
    "from itertools import combinations\n",
    "from collections import Counter"
   ]
  },
  {
   "cell_type": "code",
   "execution_count": 49,
   "id": "7e87ef54",
   "metadata": {},
   "outputs": [],
   "source": [
    "results_df = pd.DataFrame(columns=['Products', 'Number'])"
   ]
  },
  {
   "cell_type": "code",
   "execution_count": 59,
   "id": "46435b3b",
   "metadata": {},
   "outputs": [
    {
     "name": "stdout",
     "output_type": "stream",
     "text": [
      "('iPhone', 'Lightning Charging Cable') :  1005\n",
      "('Google Phone', 'USB-C Charging Cable') :  987\n",
      "('iPhone', 'Wired Headphones') :  447\n",
      "('Google Phone', 'Wired Headphones') :  414\n",
      "('Vareebadd Phone', 'USB-C Charging Cable') :  361\n",
      "('iPhone', 'Apple Airpods Headphones') :  360\n",
      "('Google Phone', 'Bose SoundSport Headphones') :  220\n",
      "('USB-C Charging Cable', 'Wired Headphones') :  160\n",
      "('Vareebadd Phone', 'Wired Headphones') :  143\n",
      "('Lightning Charging Cable', 'Wired Headphones') :  92\n"
     ]
    }
   ],
   "source": [
    "# Products order together\n",
    "# Number of orders on certain combinations\n",
    "pcount = Counter()\n",
    "\n",
    "for prod in Multiple_Orders['Grouped']:\n",
    "    prod_list = prod.split(',')\n",
    "    pcount.update(Counter(combinations(prod_list,2)))\n",
    "    \n",
    "    \n",
    "for prod, pcount in pcount.most_common(10):\n",
    "    print(prod,': ',pcount)\n",
    "    results_df = results_df.append({'Products': prod, 'Number': pcount}, ignore_index=True)\n",
    "results_df  = results_df.sort_values('Number', ascending = False)"
   ]
  },
  {
   "cell_type": "code",
   "execution_count": 60,
   "id": "71e8e0e6",
   "metadata": {},
   "outputs": [],
   "source": [
    "# TOP 10 products: most often sold together\n",
    "#('iPhone', 'Lightning Charging Cable') :  1005\n",
    "#('Google Phone', 'USB-C Charging Cable') :  987"
   ]
  },
  {
   "cell_type": "code",
   "execution_count": 61,
   "id": "648a884c",
   "metadata": {},
   "outputs": [],
   "source": [
    "# change objects to data types for further manipulation.\n",
    "results_df ['Products'] =results_df ['Products'].astype(str)\n",
    "results_df ['Number'] =results_df ['Number'].astype(int)"
   ]
  },
  {
   "cell_type": "code",
   "execution_count": 62,
   "id": "17520d53",
   "metadata": {},
   "outputs": [
    {
     "name": "stdout",
     "output_type": "stream",
     "text": [
      "<class 'pandas.core.frame.DataFrame'>\n",
      "Int64Index: 30 entries, 20 to 29\n",
      "Data columns (total 2 columns):\n",
      " #   Column    Non-Null Count  Dtype \n",
      "---  ------    --------------  ----- \n",
      " 0   Products  30 non-null     object\n",
      " 1   Number    30 non-null     int32 \n",
      "dtypes: int32(1), object(1)\n",
      "memory usage: 600.0+ bytes\n"
     ]
    }
   ],
   "source": [
    "results_df.info()"
   ]
  },
  {
   "cell_type": "code",
   "execution_count": 63,
   "id": "284276da",
   "metadata": {},
   "outputs": [
    {
     "data": {
      "image/png": "[encoded data removed]",
      "text/plain": [
       "<Figure size 1152x288 with 1 Axes>"
      ]
     },
     "metadata": {
      "needs_background": "light"
     },
     "output_type": "display_data"
    }
   ],
   "source": [
    "# Barh graph to compare which products are best sold together\n",
    "plt.figure(figsize=(16, 4))\n",
    "# Plot the bar graph\n",
    "plt.barh(results_df['Products'], results_df['Number'])\n",
    "\n",
    "# Add labels and title\n",
    "plt.xlabel('Orders placed')\n",
    "plt.ylabel('Products')\n",
    "plt.title('Top 10 list-Products: most often sold together')\n",
    "plt.xticks(rotation=90)\n",
    "\n",
    "# Show the plot\n",
    "plt.show()"
   ]
  },
  {
   "cell_type": "code",
   "execution_count": 55,
   "id": "4d6381c4",
   "metadata": {},
   "outputs": [],
   "source": [
    "# Most Sold Products\n",
    "Product_quantity =df_sales.groupby('Product').sum()[['Quantity Ordered']].reset_index()\n",
    "Product_quantity  = Product_quantity.sort_values('Quantity Ordered', ascending=False)"
   ]
  },
  {
   "cell_type": "code",
   "execution_count": 56,
   "id": "4d487602",
   "metadata": {},
   "outputs": [
    {
     "data": {
      "text/html": [
       "<div>\n",
       "<style scoped>\n",
       "    .dataframe tbody tr th:only-of-type {\n",
       "        vertical-align: middle;\n",
       "    }\n",
       "\n",
       "    .dataframe tbody tr th {\n",
       "        vertical-align: top;\n",
       "    }\n",
       "\n",
       "    .dataframe thead th {\n",
       "        text-align: right;\n",
       "    }\n",
       "</style>\n",
       "<table border=\"1\" class=\"dataframe\">\n",
       "  <thead>\n",
       "    <tr style=\"text-align: right;\">\n",
       "      <th></th>\n",
       "      <th>Product</th>\n",
       "      <th>Quantity Ordered</th>\n",
       "    </tr>\n",
       "  </thead>\n",
       "  <tbody>\n",
       "    <tr>\n",
       "      <th>5</th>\n",
       "      <td>AAA Batteries (4-pack)</td>\n",
       "      <td>31017</td>\n",
       "    </tr>\n",
       "    <tr>\n",
       "      <th>4</th>\n",
       "      <td>AA Batteries (4-pack)</td>\n",
       "      <td>27635</td>\n",
       "    </tr>\n",
       "    <tr>\n",
       "      <th>15</th>\n",
       "      <td>USB-C Charging Cable</td>\n",
       "      <td>23975</td>\n",
       "    </tr>\n",
       "    <tr>\n",
       "      <th>12</th>\n",
       "      <td>Lightning Charging Cable</td>\n",
       "      <td>23217</td>\n",
       "    </tr>\n",
       "    <tr>\n",
       "      <th>17</th>\n",
       "      <td>Wired Headphones</td>\n",
       "      <td>20557</td>\n",
       "    </tr>\n",
       "  </tbody>\n",
       "</table>\n",
       "</div>"
      ],
      "text/plain": [
       "                     Product  Quantity Ordered\n",
       "5     AAA Batteries (4-pack)             31017\n",
       "4      AA Batteries (4-pack)             27635\n",
       "15      USB-C Charging Cable             23975\n",
       "12  Lightning Charging Cable             23217\n",
       "17          Wired Headphones             20557"
      ]
     },
     "execution_count": 56,
     "metadata": {},
     "output_type": "execute_result"
    }
   ],
   "source": [
    "Product_quantity.head()"
   ]
  },
  {
   "cell_type": "code",
   "execution_count": 57,
   "id": "0da90e79",
   "metadata": {},
   "outputs": [
    {
     "data": {
      "image/png": "[encoded data removed]",
      "text/plain": [
       "<Figure size 1152x288 with 1 Axes>"
      ]
     },
     "metadata": {
      "needs_background": "light"
     },
     "output_type": "display_data"
    }
   ],
   "source": [
    "# Barh graph to compare which products are best sold together\n",
    "plt.figure(figsize=(16, 4))\n",
    "# Plot the bar graph\n",
    "plt.barh(Product_quantity['Product'], Product_quantity['Quantity Ordered'])\n",
    "\n",
    "# Add labels and title\n",
    "plt.xlabel('Quantity Ordered')\n",
    "plt.ylabel('Products')\n",
    "plt.title('Best Sold Products')\n",
    "plt.xticks(rotation=90)\n",
    "\n",
    "# Show the plot\n",
    "plt.show()"
   ]
  }
 ],
 "metadata": {
  "kernelspec": {
   "display_name": "Python 3 (ipykernel)",
   "language": "python",
   "name": "python3"
  },
  "language_info": {
   "codemirror_mode": {
    "name": "ipython",
    "version": 3
   },
   "file_extension": ".py",
   "mimetype": "text/x-python",
   "name": "python",
   "nbconvert_exporter": "python",
   "pygments_lexer": "ipython3",
   "version": "3.9.7"
  }
 },
 "nbformat": 4,
 "nbformat_minor": 5
}
